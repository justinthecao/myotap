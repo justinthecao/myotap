{
 "cells": [
  {
   "cell_type": "code",
   "execution_count": 1,
   "metadata": {},
   "outputs": [
    {
     "name": "stdout",
     "output_type": "stream",
     "text": [
      "env: MUJOCO_GL=enable\n",
      "pygame 2.6.1 (SDL 2.28.4, Python 3.8.20)\n",
      "Hello from the pygame community. https://www.pygame.org/contribute.html\n",
      "MyoSuite:> Registering Myo Envs\n"
     ]
    }
   ],
   "source": [
    "!pip install \"stable-baselines3[extra]\" --quiet\n",
    "!pip install tqdm --quiet\n",
    "%env MUJOCO_GL=enable\n",
    "from myosuite.utils import gym\n",
    "from showvid import show_video\n",
    "import skvideo.io\n",
    "import numpy as np\n",
    "import os\n",
    "from tqdm import tqdm_notebook as tqdm\n",
    "import matplotlib.pyplot as plt\n",
    "from stable_baselines3 import PPO\n"
   ]
  },
  {
   "cell_type": "markdown",
   "metadata": {},
   "source": [
    "# MyoFingerReach example"
   ]
  },
  {
   "cell_type": "code",
   "execution_count": null,
   "metadata": {},
   "outputs": [],
   "source": [
    "env = gym.make('myoFingerReachFixed-v0')\n",
    "\n",
    "model = PPO(\"MlpPolicy\", env, verbose=0)\n",
    "model.learn(total_timesteps=100000)\n",
    "model.save(\"Reach_policy\")"
   ]
  },
  {
   "cell_type": "code",
   "execution_count": null,
   "metadata": {},
   "outputs": [],
   "source": [
    "# evaluate policy\n",
    "all_rewards = []\n",
    "for _ in tqdm(range(20)): # 20 random targets\n",
    "  ep_rewards = []\n",
    "  done = False\n",
    "  obs, _ = env.reset()\n",
    "  for _ in range(40):\n",
    "      # get the next action from the policy\n",
    "      action, _ = model.predict(obs)\n",
    "      # take an action based on the current observation\n",
    "      obs, reward, done, _, info = env.step(action)\n",
    "      ep_rewards.append(reward)\n",
    "  all_rewards.append(np.sum(ep_rewards))\n",
    "print(f\"Average reward: {np.mean(all_rewards)} over 20 episodes\")\n"
   ]
  },
  {
   "cell_type": "code",
   "execution_count": null,
   "metadata": {},
   "outputs": [],
   "source": [
    "env.reset()\n",
    "frames = []\n",
    "obs, _ = env.reset()\n",
    "for _ in tqdm(range(1000)):\n",
    "    # Predict the best action based on the current observation\n",
    "    action, _ = model.predict(obs)\n",
    "    # Render the current frame from the environment\n",
    "    frames.append(env.sim.renderer.render_offscreen(\n",
    "                        width=400,\n",
    "                        height=400,\n",
    "                        camera_id=-1))\n",
    "    # Take the action and get the next observation\n",
    "    obs, _, done, _, _ = env.step(action)\n",
    "env.close()"
   ]
  },
  {
   "cell_type": "code",
   "execution_count": null,
   "metadata": {},
   "outputs": [],
   "source": [
    "os.makedirs('videos', exist_ok=True)\n",
    "# make a local copy\n",
    "skvideo.io.vwrite('videos/Reach.mp4', np.asarray(frames),outputdict={\"-pix_fmt\": \"yuv420p\"})\n",
    "\n",
    "# show in the notebook\n",
    "show_video('videos/Reach.mp4')"
   ]
  },
  {
   "cell_type": "markdown",
   "metadata": {},
   "source": [
    "# MyoDm example"
   ]
  },
  {
   "cell_type": "code",
   "execution_count": 2,
   "metadata": {},
   "outputs": [
    {
     "ename": "NameNotFound",
     "evalue": "Environment `MyoHandTapMouseLift` doesn't exist. Did you mean: `MyoHandMouseLift`?",
     "output_type": "error",
     "traceback": [
      "\u001b[1;31m---------------------------------------------------------------------------\u001b[0m",
      "\u001b[1;31mNameNotFound\u001b[0m                              Traceback (most recent call last)",
      "\u001b[1;32mc:\\margy\\code\\myotap\\colab\\testreach.ipynb Cell 8\u001b[0m line \u001b[0;36m5\n\u001b[0;32m      <a href='vscode-notebook-cell:/c%3A/margy/code/myotap/colab/testreach.ipynb#X35sZmlsZQ%3D%3D?line=1'>2</a>\u001b[0m \u001b[39mfrom\u001b[39;00m \u001b[39mmyosuite\u001b[39;00m\u001b[39m.\u001b[39;00m\u001b[39mutils\u001b[39;00m \u001b[39mimport\u001b[39;00m gym\n\u001b[0;32m      <a href='vscode-notebook-cell:/c%3A/margy/code/myotap/colab/testreach.ipynb#X35sZmlsZQ%3D%3D?line=2'>3</a>\u001b[0m \u001b[39mimport\u001b[39;00m \u001b[39mos\u001b[39;00m\n\u001b[1;32m----> <a href='vscode-notebook-cell:/c%3A/margy/code/myotap/colab/testreach.ipynb#X35sZmlsZQ%3D%3D?line=4'>5</a>\u001b[0m env \u001b[39m=\u001b[39m gym\u001b[39m.\u001b[39;49mmake(\u001b[39m'\u001b[39;49m\u001b[39mMyoHandTapMouseLift-v0\u001b[39;49m\u001b[39m'\u001b[39;49m)\n\u001b[0;32m      <a href='vscode-notebook-cell:/c%3A/margy/code/myotap/colab/testreach.ipynb#X35sZmlsZQ%3D%3D?line=5'>6</a>\u001b[0m env\u001b[39m.\u001b[39mreset()\n\u001b[0;32m      <a href='vscode-notebook-cell:/c%3A/margy/code/myotap/colab/testreach.ipynb#X35sZmlsZQ%3D%3D?line=7'>8</a>\u001b[0m \u001b[39mfrom\u001b[39;00m \u001b[39mstable_baselines3\u001b[39;00m \u001b[39mimport\u001b[39;00m PPO\n",
      "File \u001b[1;32mc:\\Users\\justin\\miniconda3\\envs\\myotap\\lib\\site-packages\\gymnasium\\envs\\registration.py:741\u001b[0m, in \u001b[0;36mmake\u001b[1;34m(id, max_episode_steps, autoreset, apply_api_compatibility, disable_env_checker, **kwargs)\u001b[0m\n\u001b[0;32m    738\u001b[0m     \u001b[39massert\u001b[39;00m \u001b[39misinstance\u001b[39m(\u001b[39mid\u001b[39m, \u001b[39mstr\u001b[39m)\n\u001b[0;32m    740\u001b[0m     \u001b[39m# The environment name can include an unloaded module in \"module:env_name\" style\u001b[39;00m\n\u001b[1;32m--> 741\u001b[0m     env_spec \u001b[39m=\u001b[39m _find_spec(\u001b[39mid\u001b[39;49m)\n\u001b[0;32m    743\u001b[0m \u001b[39massert\u001b[39;00m \u001b[39misinstance\u001b[39m(env_spec, EnvSpec)\n\u001b[0;32m    745\u001b[0m \u001b[39m# Update the env spec kwargs with the `make` kwargs\u001b[39;00m\n",
      "File \u001b[1;32mc:\\Users\\justin\\miniconda3\\envs\\myotap\\lib\\site-packages\\gymnasium\\envs\\registration.py:527\u001b[0m, in \u001b[0;36m_find_spec\u001b[1;34m(env_id)\u001b[0m\n\u001b[0;32m    521\u001b[0m     logger\u001b[39m.\u001b[39mwarn(\n\u001b[0;32m    522\u001b[0m         \u001b[39mf\u001b[39m\u001b[39m\"\u001b[39m\u001b[39mUsing the latest versioned environment `\u001b[39m\u001b[39m{\u001b[39;00mnew_env_id\u001b[39m}\u001b[39;00m\u001b[39m` \u001b[39m\u001b[39m\"\u001b[39m\n\u001b[0;32m    523\u001b[0m         \u001b[39mf\u001b[39m\u001b[39m\"\u001b[39m\u001b[39minstead of the unversioned environment `\u001b[39m\u001b[39m{\u001b[39;00menv_name\u001b[39m}\u001b[39;00m\u001b[39m`.\u001b[39m\u001b[39m\"\u001b[39m\n\u001b[0;32m    524\u001b[0m     )\n\u001b[0;32m    526\u001b[0m \u001b[39mif\u001b[39;00m env_spec \u001b[39mis\u001b[39;00m \u001b[39mNone\u001b[39;00m:\n\u001b[1;32m--> 527\u001b[0m     _check_version_exists(ns, name, version)\n\u001b[0;32m    528\u001b[0m     \u001b[39mraise\u001b[39;00m error\u001b[39m.\u001b[39mError(\n\u001b[0;32m    529\u001b[0m         \u001b[39mf\u001b[39m\u001b[39m\"\u001b[39m\u001b[39mNo registered env with id: \u001b[39m\u001b[39m{\u001b[39;00menv_name\u001b[39m}\u001b[39;00m\u001b[39m. Did you register it, or import the package that registers it? Use `gymnasium.pprint_registry()` to see all of the registered environments.\u001b[39m\u001b[39m\"\u001b[39m\n\u001b[0;32m    530\u001b[0m     )\n\u001b[0;32m    532\u001b[0m \u001b[39mreturn\u001b[39;00m env_spec\n",
      "File \u001b[1;32mc:\\Users\\justin\\miniconda3\\envs\\myotap\\lib\\site-packages\\gymnasium\\envs\\registration.py:393\u001b[0m, in \u001b[0;36m_check_version_exists\u001b[1;34m(ns, name, version)\u001b[0m\n\u001b[0;32m    390\u001b[0m \u001b[39mif\u001b[39;00m get_env_id(ns, name, version) \u001b[39min\u001b[39;00m registry:\n\u001b[0;32m    391\u001b[0m     \u001b[39mreturn\u001b[39;00m\n\u001b[1;32m--> 393\u001b[0m _check_name_exists(ns, name)\n\u001b[0;32m    394\u001b[0m \u001b[39mif\u001b[39;00m version \u001b[39mis\u001b[39;00m \u001b[39mNone\u001b[39;00m:\n\u001b[0;32m    395\u001b[0m     \u001b[39mreturn\u001b[39;00m\n",
      "File \u001b[1;32mc:\\Users\\justin\\miniconda3\\envs\\myotap\\lib\\site-packages\\gymnasium\\envs\\registration.py:370\u001b[0m, in \u001b[0;36m_check_name_exists\u001b[1;34m(ns, name)\u001b[0m\n\u001b[0;32m    367\u001b[0m namespace_msg \u001b[39m=\u001b[39m \u001b[39mf\u001b[39m\u001b[39m\"\u001b[39m\u001b[39m in namespace \u001b[39m\u001b[39m{\u001b[39;00mns\u001b[39m}\u001b[39;00m\u001b[39m\"\u001b[39m \u001b[39mif\u001b[39;00m ns \u001b[39melse\u001b[39;00m \u001b[39m\"\u001b[39m\u001b[39m\"\u001b[39m\n\u001b[0;32m    368\u001b[0m suggestion_msg \u001b[39m=\u001b[39m \u001b[39mf\u001b[39m\u001b[39m\"\u001b[39m\u001b[39m Did you mean: `\u001b[39m\u001b[39m{\u001b[39;00msuggestion[\u001b[39m0\u001b[39m]\u001b[39m}\u001b[39;00m\u001b[39m`?\u001b[39m\u001b[39m\"\u001b[39m \u001b[39mif\u001b[39;00m suggestion \u001b[39melse\u001b[39;00m \u001b[39m\"\u001b[39m\u001b[39m\"\u001b[39m\n\u001b[1;32m--> 370\u001b[0m \u001b[39mraise\u001b[39;00m error\u001b[39m.\u001b[39mNameNotFound(\n\u001b[0;32m    371\u001b[0m     \u001b[39mf\u001b[39m\u001b[39m\"\u001b[39m\u001b[39mEnvironment `\u001b[39m\u001b[39m{\u001b[39;00mname\u001b[39m}\u001b[39;00m\u001b[39m` doesn\u001b[39m\u001b[39m'\u001b[39m\u001b[39mt exist\u001b[39m\u001b[39m{\u001b[39;00mnamespace_msg\u001b[39m}\u001b[39;00m\u001b[39m.\u001b[39m\u001b[39m{\u001b[39;00msuggestion_msg\u001b[39m}\u001b[39;00m\u001b[39m\"\u001b[39m\n\u001b[0;32m    372\u001b[0m )\n",
      "\u001b[1;31mNameNotFound\u001b[0m: Environment `MyoHandTapMouseLift` doesn't exist. Did you mean: `MyoHandMouseLift`?"
     ]
    }
   ],
   "source": [
    "import numpy as np\n",
    "from myosuite.utils import gym\n",
    "import os\n",
    "\n",
    "env = gym.make('MyoHandTapMouseLift-v0')\n",
    "env.reset()\n",
    "\n",
    "from stable_baselines3 import PPO\n",
    "model = PPO(\"MlpPolicy\", env, verbose=1)\n",
    "model.learn(total_timesteps=1000)\n",
    "# to train to convergence use more iterations e.g.\n",
    "# model.learn(total_timesteps=1e7)\n",
    "model.save(\"inspect_policy\")"
   ]
  },
  {
   "cell_type": "code",
   "execution_count": null,
   "metadata": {},
   "outputs": [],
   "source": [
    "all_rewards = []\n",
    "for _ in tqdm(range(20)): # 20 random targets\n",
    "  ep_rewards = []\n",
    "  done = False\n",
    "  obs, _ = env.reset()\n",
    "  for _ in range(40):\n",
    "      # get the next action from the policy\n",
    "      action, _ = model.predict(obs)\n",
    "      # take an action based on the current observation\n",
    "      obs, reward, done, _, info = env.step(action)\n",
    "      ep_rewards.append(reward)\n",
    "  all_rewards.append(np.sum(ep_rewards))\n",
    "print(f\"Average reward: {np.mean(all_rewards)} over 20 episodes\")\n"
   ]
  },
  {
   "cell_type": "code",
   "execution_count": null,
   "metadata": {},
   "outputs": [],
   "source": [
    "env.reset()\n",
    "# find geometries with ID == 1 which indicates the skins\n",
    "geom_1_indices = np.where(env.sim.model.geom_group == 1)\n",
    "# Change the alpha value to make it transparent\n",
    "env.sim.model.geom_rgba[geom_1_indices, 3] = 0\n",
    "\n",
    "env.sim.renderer.set_viewer_settings(\n",
    "           render_actuator=True,\n",
    "           render_tendon=True\n",
    "       )\n",
    "\n",
    "\n",
    "# find geometries with ID == 1 which indicates the skins\n",
    "geom_1_indices = np.where(env.sim.model.geom_group == 1)\n",
    "# Change the alpha value to make it transparent\n",
    "env.sim.model.geom_rgba[geom_1_indices, 3] = 0\n",
    "\n",
    "env.sim.renderer.set_viewer_settings(\n",
    "           render_actuator=True,\n",
    "           render_tendon=True\n",
    "       )\n",
    "\n",
    "pi = PPO.load(\"inspect_policy\")\n",
    "frames = []\n",
    "for _ in range(400):\n",
    "    frames.append(env.sim.renderer.render_offscreen(width=400, height=400, camera_id=3))\n",
    "    o = env.get_obs()\n",
    "    a = pi.predict(o)[0]\n",
    "    next_o, r, done, *_, ifo = env.step(\n",
    "        a\n",
    "    )  # take an action based on the current observation\n",
    "    \n",
    "import skvideo.io\n",
    "import os\n",
    "os.makedirs(\"videos\", exist_ok=True)\n",
    "# make a local copy\n",
    "skvideo.io.vwrite(\n",
    "    \"videos/inspect.mp4\",\n",
    "\n",
    "    np.asarray(frames),\n",
    "    outputdict={\"-pix_fmt\": \"yuv420p\", \"-r\": \"10\"},\n",
    ")\n",
    "\n",
    "\n"
   ]
  },
  {
   "cell_type": "code",
   "execution_count": null,
   "metadata": {},
   "outputs": [],
   "source": [
    "show_video('videos/inspect.mp4')"
   ]
  },
  {
   "cell_type": "code",
   "execution_count": null,
   "metadata": {},
   "outputs": [],
   "source": []
  }
 ],
 "metadata": {
  "kernelspec": {
   "display_name": "myotap",
   "language": "python",
   "name": "python3"
  },
  "language_info": {
   "codemirror_mode": {
    "name": "ipython",
    "version": 3
   },
   "file_extension": ".py",
   "mimetype": "text/x-python",
   "name": "python",
   "nbconvert_exporter": "python",
   "pygments_lexer": "ipython3",
   "version": "3.8.20"
  }
 },
 "nbformat": 4,
 "nbformat_minor": 2
}
